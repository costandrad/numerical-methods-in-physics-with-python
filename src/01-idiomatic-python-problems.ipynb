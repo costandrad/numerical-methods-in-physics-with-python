{
 "cells": [
  {
   "cell_type": "markdown",
   "id": "b939a9b5",
   "metadata": {},
   "source": [
    "# 1. Idiomatic Python"
   ]
  },
  {
   "cell_type": "markdown",
   "id": "fbb90bf2",
   "metadata": {},
   "source": [
    "## Problemas"
   ]
  },
  {
   "cell_type": "markdown",
   "id": "8e4ff503",
   "metadata": {},
   "source": [
    "**1.6** A seguir está a definição implícita de uma relação de recorrência:\n",
    "\n",
    "```{python}\n",
    "f0, f1 = 0, 1  \n",
    "for i in range(n-1):  \n",
    "    f0, f1 = f1, f0 + 2 * f1\n",
    "```\n",
    "Agora vamos produzir versões cada vez mais sofisticadas desse trecho de código."
   ]
  },
  {
   "cell_type": "markdown",
   "id": "046f24f5",
   "metadata": {},
   "source": [
    "(a) Defina uma função que recebe o número cardinal `n` e retorna o valor correspondente mais recente, seguindo a relação de recorrência acima. Em outras palavras, para `n = 0` você deve obter 0, para `n = 1` você deve obter 1, para `n = 2` você deve obter 2, para `n = 3` você deve obter 5, e assim por diante."
   ]
  },
  {
   "cell_type": "code",
   "execution_count": 1,
   "id": "30645c9c",
   "metadata": {},
   "outputs": [
    {
     "name": "stdout",
     "output_type": "stream",
     "text": [
      "==========\n",
      "  n | f(n)\n",
      "----------\n",
      "  0 |    0\n",
      "  1 |    1\n",
      "  2 |    2\n",
      "  3 |    5\n",
      "  4 |   12\n",
      "  5 |   29\n",
      "  6 |   70\n",
      "  7 |  169\n",
      "  8 |  408\n",
      "  9 |  985\n",
      " 10 | 2378\n",
      "==========\n"
     ]
    }
   ],
   "source": [
    "def f1(n):\n",
    "    if n==0:\n",
    "        return 0\n",
    "    f0, f1 = 0, 1  \n",
    "    for i in range(n-1):  \n",
    "        f0, f1 = f1, f0 + 2 * f1\n",
    "    return f1\n",
    "\n",
    "print(10*\"=\")\n",
    "print(f\" {'n':>2s} | {'f(n)':>4s}\")\n",
    "print(10*\"-\")\n",
    "for n in range(11):\n",
    "    print(f\" {n:>2d} | {f1(n):>4d}\")\n",
    "print(10*\"=\")\n",
    "    "
   ]
  },
  {
   "cell_type": "markdown",
   "id": "9378db41",
   "metadata": {},
   "source": [
    "(b) Defina uma função *recursiva* que recebe o número cardinal `n` e retorna o valor correspondente mais recente. A interface da função será idêntica à da parte anterior (mas a implementação será diferente)."
   ]
  },
  {
   "cell_type": "code",
   "execution_count": 2,
   "id": "c1533e06",
   "metadata": {},
   "outputs": [
    {
     "name": "stdout",
     "output_type": "stream",
     "text": [
      "==========\n",
      "  n | f(n)\n",
      "----------\n",
      "  0 |    0\n",
      "  1 |    1\n",
      "  2 |    2\n",
      "  3 |    5\n",
      "  4 |   12\n",
      "  5 |   29\n",
      "  6 |   70\n",
      "  7 |  169\n",
      "  8 |  408\n",
      "  9 |  985\n",
      " 10 | 2378\n",
      "==========\n"
     ]
    }
   ],
   "source": [
    "def f2(n):\n",
    "    return n if n==0 or n==1 else f2(n-2) + 2*f2(n-1)\n",
    "\n",
    "print(10*\"=\")\n",
    "print(f\" {'n':>2s} | {'f(n)':>4s}\")\n",
    "print(10*\"-\")\n",
    "for n in range(11):\n",
    "    print(f\" {n:>2d} | {f2(n):>4d}\")\n",
    "print(10*\"=\")"
   ]
  },
  {
   "cell_type": "markdown",
   "id": "302ebe85",
   "metadata": {},
   "source": [
    "(c) Defina uma função similar que seja mais eficiente. Fora da função, defina um dicionário `ntoval = {0:0, 1:1}`. Dentro da função, você deve verificar se `n` passado existe como chave em `ntoval`: se existir, apenas retorne o valor correspondente; se não existir, então realize o cálculo necessário e aumente o dicionário com um novo par chave-valor."
   ]
  },
  {
   "cell_type": "code",
   "execution_count": 3,
   "id": "dd14658a",
   "metadata": {},
   "outputs": [
    {
     "name": "stdout",
     "output_type": "stream",
     "text": [
      "==========\n",
      "  n | f(n)\n",
      "----------\n",
      "  0 |    0\n",
      "  1 |    1\n",
      "  2 |    2\n",
      "  3 |    5\n",
      "  4 |   12\n",
      "  5 |   29\n",
      "  6 |   70\n",
      "  7 |  169\n",
      "  8 |  408\n",
      "  9 |  985\n",
      " 10 | 2378\n",
      "==========\n"
     ]
    }
   ],
   "source": [
    "ntoval = {0:0, 1:1}\n",
    "\n",
    "def f3(n):\n",
    "    if n in ntoval:\n",
    "        return ntoval[n]\n",
    "    else:\n",
    "        # Calcula recursivamente apenas o necessário\n",
    "        ntoval[n] = f3(n - 2) + 2 * f3(n - 1)\n",
    "        return ntoval[n]\n",
    "\n",
    "print(10*\"=\")\n",
    "print(f\" {'n':>2s} | {'f(n)':>4s}\")\n",
    "print(10*\"-\")\n",
    "for n in range(11):\n",
    "    print(f\" {n:>2d} | {f3(n):>4d}\")\n",
    "print(10*\"=\")\n"
   ]
  },
  {
   "cell_type": "markdown",
   "id": "1c67e415",
   "metadata": {},
   "source": [
    "(d) Se você leva a sério a separação de responsabilidades (separation of concerns), pode estar se sentindo desconfortável com o fato de acessar e modificar ntoval dentro da sua função (já que ele não está sendo passado como parâmetro). Escreva uma nova função que se pareça com a da parte anterior, mas que receba dois parâmetros: `n` e `ntoval`."
   ]
  },
  {
   "cell_type": "code",
   "execution_count": 4,
   "id": "e04fd701",
   "metadata": {},
   "outputs": [
    {
     "name": "stdout",
     "output_type": "stream",
     "text": [
      "==========\n",
      "  n | f(n)\n",
      "----------\n",
      "  0 |    0\n",
      "  1 |    1\n",
      "  2 |    2\n",
      "  3 |    5\n",
      "  4 |   12\n",
      "  5 |   29\n",
      "  6 |   70\n",
      "  7 |  169\n",
      "  8 |  408\n",
      "  9 |  985\n",
      " 10 | 2378\n",
      "==========\n"
     ]
    }
   ],
   "source": [
    "def f4(n, ntoval):\n",
    "    if n in ntoval:\n",
    "        return ntoval[n]\n",
    "    else:\n",
    "        ntoval[n] = f4(n - 2, ntoval) + 2 * f4(n - 1, ntoval)\n",
    "        return ntoval[n]\n",
    "\n",
    "print(10*\"=\")\n",
    "print(f\" {'n':>2s} | {'f(n)':>4s}\")\n",
    "print(10*\"-\")\n",
    "for n in range(11):\n",
    "    print(f\" {n:>2d} | {f4(n=n, ntoval={0:0, 1:1}):>4d}\")\n",
    "print(10*\"=\")"
   ]
  },
  {
   "cell_type": "markdown",
   "id": "a47e4b04",
   "metadata": {},
   "source": [
    "(e) Embora a parte (d) respeite a separação de responsabilidades, infelizmente ela não é realmente eficiente. Escreva uma função semelhante à da parte (c), que use um *valor de parâmetro padrão mutável*, ou seja, ela é definida com: `def f5(n = ntoval={0:0, 1:1}):`."
   ]
  },
  {
   "cell_type": "code",
   "execution_count": 5,
   "id": "6325a75a",
   "metadata": {},
   "outputs": [
    {
     "name": "stdout",
     "output_type": "stream",
     "text": [
      "==========\n",
      "  n | f(n)\n",
      "----------\n",
      "  0 |    0\n",
      "  1 |    1\n",
      "  2 |    2\n",
      "  3 |    5\n",
      "  4 |   12\n",
      "  5 |   29\n",
      "  6 |   70\n",
      "  7 |  169\n",
      "  8 |  408\n",
      "  9 |  985\n",
      " 10 | 2378\n",
      "==========\n"
     ]
    }
   ],
   "source": [
    "def f5(n, ntoval={0:0, 1:1}):\n",
    "    if n in ntoval:\n",
    "        return ntoval[n]\n",
    "    else:\n",
    "        ntoval[n] = f4(n - 2, ntoval) + 2 * f4(n - 1, ntoval)\n",
    "        return ntoval[n]\n",
    "\n",
    "print(10*\"=\")\n",
    "print(f\" {'n':>2s} | {'f(n)':>4s}\")\n",
    "print(10*\"-\")\n",
    "for n in range(11):\n",
    "    print(f\" {n:>2d} | {f4(n, ntoval):>4d}\")\n",
    "print(10*\"=\")"
   ]
  },
  {
   "cell_type": "markdown",
   "id": "7ecbca04",
   "metadata": {},
   "source": [
    "Teste todas as cinco funções com `n = 8`: cada uma delas deve retornar 408. As funções nas partes (c) e (e) devem ser eficientes no sentido de que, se você agora chamá-las com, por exemplo, `n = 6`, elas não precisarão recomputar a resposta pois já a têm armazenada."
   ]
  },
  {
   "cell_type": "code",
   "execution_count": 6,
   "id": "996a15d9",
   "metadata": {},
   "outputs": [],
   "source": [
    "import time\n",
    "import pandas as pd\n",
    "\n",
    "def test_functions(N=5, K=5):\n",
    "    f_list = [f1, f2, f3, f4, f5]\n",
    "    resultados = []  # Armazena as linhas antes de criar o DataFrame final\n",
    "\n",
    "    for f in f_list:\n",
    "        fname = f.__name__\n",
    "        for _ in range(2):  # duas repetições\n",
    "            for _ in range(K):  # K execuções por repetição\n",
    "                for n in range(N):  # valores de n de 0 a N-1\n",
    "                    start = time.time()\n",
    "                    if fname == \"f4\":\n",
    "                        r_test = f(n, ntoval={0:0, 1:1})\n",
    "                    else:\n",
    "                        r_test = f(n)\n",
    "                    end = time.time()\n",
    "                    tempo_ms = 1000 * (end - start)\n",
    "                    resultados.append([fname, n, tempo_ms])\n",
    "\n",
    "    # Cria o DataFrame uma única vez ao final\n",
    "    df = pd.DataFrame(resultados, columns=['função', 'n', 'tempo (ms)'])\n",
    "    return df\n"
   ]
  },
  {
   "cell_type": "code",
   "execution_count": 7,
   "id": "707587f9",
   "metadata": {},
   "outputs": [
    {
     "data": {
      "text/html": [
       "<div>\n",
       "<style scoped>\n",
       "    .dataframe tbody tr th:only-of-type {\n",
       "        vertical-align: middle;\n",
       "    }\n",
       "\n",
       "    .dataframe tbody tr th {\n",
       "        vertical-align: top;\n",
       "    }\n",
       "\n",
       "    .dataframe thead th {\n",
       "        text-align: right;\n",
       "    }\n",
       "</style>\n",
       "<table border=\"1\" class=\"dataframe\">\n",
       "  <thead>\n",
       "    <tr style=\"text-align: right;\">\n",
       "      <th></th>\n",
       "      <th>função</th>\n",
       "      <th>n</th>\n",
       "      <th>tempo (ms)</th>\n",
       "    </tr>\n",
       "  </thead>\n",
       "  <tbody>\n",
       "    <tr>\n",
       "      <th>0</th>\n",
       "      <td>f1</td>\n",
       "      <td>0</td>\n",
       "      <td>0.001192</td>\n",
       "    </tr>\n",
       "    <tr>\n",
       "      <th>1</th>\n",
       "      <td>f1</td>\n",
       "      <td>1</td>\n",
       "      <td>0.001907</td>\n",
       "    </tr>\n",
       "    <tr>\n",
       "      <th>2</th>\n",
       "      <td>f1</td>\n",
       "      <td>2</td>\n",
       "      <td>0.001192</td>\n",
       "    </tr>\n",
       "    <tr>\n",
       "      <th>3</th>\n",
       "      <td>f1</td>\n",
       "      <td>3</td>\n",
       "      <td>0.000954</td>\n",
       "    </tr>\n",
       "    <tr>\n",
       "      <th>4</th>\n",
       "      <td>f1</td>\n",
       "      <td>4</td>\n",
       "      <td>0.000715</td>\n",
       "    </tr>\n",
       "  </tbody>\n",
       "</table>\n",
       "</div>"
      ],
      "text/plain": [
       "  função  n  tempo (ms)\n",
       "0     f1  0    0.001192\n",
       "1     f1  1    0.001907\n",
       "2     f1  2    0.001192\n",
       "3     f1  3    0.000954\n",
       "4     f1  4    0.000715"
      ]
     },
     "execution_count": 7,
     "metadata": {},
     "output_type": "execute_result"
    }
   ],
   "source": [
    "resultado_df = test_functions(N=25, K=100)\n",
    "resultado_df.head()"
   ]
  },
  {
   "cell_type": "code",
   "execution_count": 8,
   "id": "9c8add75",
   "metadata": {},
   "outputs": [
    {
     "data": {
      "text/html": [
       "<div>\n",
       "<style scoped>\n",
       "    .dataframe tbody tr th:only-of-type {\n",
       "        vertical-align: middle;\n",
       "    }\n",
       "\n",
       "    .dataframe tbody tr th {\n",
       "        vertical-align: top;\n",
       "    }\n",
       "\n",
       "    .dataframe thead th {\n",
       "        text-align: right;\n",
       "    }\n",
       "</style>\n",
       "<table border=\"1\" class=\"dataframe\">\n",
       "  <thead>\n",
       "    <tr style=\"text-align: right;\">\n",
       "      <th></th>\n",
       "      <th>função</th>\n",
       "      <th>tempo médio (ms)</th>\n",
       "      <th>desvio padrão (ms)</th>\n",
       "    </tr>\n",
       "  </thead>\n",
       "  <tbody>\n",
       "    <tr>\n",
       "      <th>2</th>\n",
       "      <td>f3</td>\n",
       "      <td>0.000287</td>\n",
       "      <td>0.000284</td>\n",
       "    </tr>\n",
       "    <tr>\n",
       "      <th>4</th>\n",
       "      <td>f5</td>\n",
       "      <td>0.000290</td>\n",
       "      <td>0.000120</td>\n",
       "    </tr>\n",
       "    <tr>\n",
       "      <th>0</th>\n",
       "      <td>f1</td>\n",
       "      <td>0.003395</td>\n",
       "      <td>0.101326</td>\n",
       "    </tr>\n",
       "    <tr>\n",
       "      <th>3</th>\n",
       "      <td>f4</td>\n",
       "      <td>0.005270</td>\n",
       "      <td>0.003319</td>\n",
       "    </tr>\n",
       "    <tr>\n",
       "      <th>1</th>\n",
       "      <td>f2</td>\n",
       "      <td>1.810268</td>\n",
       "      <td>4.009985</td>\n",
       "    </tr>\n",
       "  </tbody>\n",
       "</table>\n",
       "</div>"
      ],
      "text/plain": [
       "  função  tempo médio (ms)  desvio padrão (ms)\n",
       "2     f3          0.000287            0.000284\n",
       "4     f5          0.000290            0.000120\n",
       "0     f1          0.003395            0.101326\n",
       "3     f4          0.005270            0.003319\n",
       "1     f2          1.810268            4.009985"
      ]
     },
     "execution_count": 8,
     "metadata": {},
     "output_type": "execute_result"
    }
   ],
   "source": [
    "import pandas as pd\n",
    "\n",
    "df_agrupado = resultado_df.groupby(['função'])['tempo (ms)'].agg(['mean', 'std']).reset_index()\n",
    "df_agrupado.rename(columns={'mean': 'tempo médio (ms)', 'std': 'desvio padrão (ms)'}, inplace=True)\n",
    "\n",
    "df_agrupado.sort_values(by='tempo médio (ms)')\n"
   ]
  },
  {
   "cell_type": "markdown",
   "id": "8cf43d2e",
   "metadata": {},
   "source": [
    "**1.7** Este problema estuda a quantidade $(1 + 1/n)^n$ em que $n = 10^1, 10^2, \\cdots, 10^7$. Imprima uma tabela bem formatada com três colunas: (a) o valor de $n$, (b) a quantidade de interesse calculada com números de ponto flutuante de precisão simples (c) A mesma quantidade, mas agora usando duplas (*double precision*)"
   ]
  },
  {
   "cell_type": "code",
   "execution_count": 26,
   "id": "afbc0af7",
   "metadata": {},
   "outputs": [
    {
     "name": "stdout",
     "output_type": "stream",
     "text": [
      "=======================================\n",
      " n       |  Single Prec |  Double Prec \n",
      "---------------------------------------\n",
      " 10^( 1) | 2.5937430859 | 2.5937424601 \n",
      " 10^( 2) | 2.7048113346 | 2.7048138294 \n",
      " 10^( 3) | 2.7170507908 | 2.7169239322 \n",
      " 10^( 4) | 2.7185969353 | 2.7181459268 \n",
      " 10^( 5) | 2.7219622135 | 2.7182682372 \n",
      " 10^( 6) | 2.5952267647 | 2.7182804691 \n",
      " 10^( 7) | 3.2939677238 | 2.7182816941 \n",
      "=======================================\n"
     ]
    }
   ],
   "source": [
    "import numpy as np\n",
    "\n",
    "k_list = []\n",
    "n_list = []\n",
    "single_list = []\n",
    "double_list = []\n",
    "for k in range(1, 8):\n",
    "    n = 10**k\n",
    "    single = (1 + 1/np.float32(n))**np.float32(n)\n",
    "    double = (1 + 1/np.float64(n))**np.float64(n)\n",
    "    k_list.append(k)\n",
    "    n_list.append(n)\n",
    "    single_list.append(single)\n",
    "    double_list.append(double)\n",
    "\n",
    "\n",
    "header = f\" {'n':<7s} | {'Single Prec':>12s} | {'Double Prec':>12s} \"\n",
    "print(len(header) * \"=\")\n",
    "print(header)\n",
    "print(len(header) * \"-\")\n",
    "for i in range(len(n_list)):\n",
    "    print(f\" 10^({k_list[i]:>2d}) | {single_list[i]:.10f} | {double_list[i]:.10f} \")\n",
    "print(len(header) * \"=\")\n"
   ]
  }
 ],
 "metadata": {
  "kernelspec": {
   "display_name": "science",
   "language": "python",
   "name": "python3"
  },
  "language_info": {
   "codemirror_mode": {
    "name": "ipython",
    "version": 3
   },
   "file_extension": ".py",
   "mimetype": "text/x-python",
   "name": "python",
   "nbconvert_exporter": "python",
   "pygments_lexer": "ipython3",
   "version": "3.12.9"
  }
 },
 "nbformat": 4,
 "nbformat_minor": 5
}
